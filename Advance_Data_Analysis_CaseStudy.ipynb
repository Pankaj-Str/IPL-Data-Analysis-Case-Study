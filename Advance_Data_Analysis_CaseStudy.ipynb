{
 "cells": [
  {
   "cell_type": "code",
   "execution_count": 3,
   "id": "41699510",
   "metadata": {},
   "outputs": [
    {
     "name": "stdout",
     "output_type": "stream",
     "text": [
      "Requirement already satisfied: pandas in c:\\users\\comp\\appdata\\local\\programs\\python\\python310\\lib\\site-packages (2.2.3)\n",
      "Requirement already satisfied: numpy in c:\\users\\comp\\appdata\\local\\programs\\python\\python310\\lib\\site-packages (2.2.2)\n",
      "Requirement already satisfied: scikit-learn in c:\\users\\comp\\appdata\\local\\programs\\python\\python310\\lib\\site-packages (1.7.1)\n",
      "Requirement already satisfied: python-dateutil>=2.8.2 in c:\\users\\comp\\appdata\\local\\programs\\python\\python310\\lib\\site-packages (from pandas) (2.9.0.post0)\n",
      "Requirement already satisfied: tzdata>=2022.7 in c:\\users\\comp\\appdata\\local\\programs\\python\\python310\\lib\\site-packages (from pandas) (2025.1)\n",
      "Requirement already satisfied: pytz>=2020.1 in c:\\users\\comp\\appdata\\local\\programs\\python\\python310\\lib\\site-packages (from pandas) (2025.1)\n",
      "Requirement already satisfied: joblib>=1.2.0 in c:\\users\\comp\\appdata\\local\\programs\\python\\python310\\lib\\site-packages (from scikit-learn) (1.5.1)\n",
      "Requirement already satisfied: threadpoolctl>=3.1.0 in c:\\users\\comp\\appdata\\local\\programs\\python\\python310\\lib\\site-packages (from scikit-learn) (3.6.0)\n",
      "Requirement already satisfied: scipy>=1.8.0 in c:\\users\\comp\\appdata\\local\\programs\\python\\python310\\lib\\site-packages (from scikit-learn) (1.15.3)\n",
      "Requirement already satisfied: six>=1.5 in c:\\users\\comp\\appdata\\local\\programs\\python\\python310\\lib\\site-packages (from python-dateutil>=2.8.2->pandas) (1.17.0)\n",
      "Note: you may need to restart the kernel to use updated packages.\n"
     ]
    },
    {
     "name": "stderr",
     "output_type": "stream",
     "text": [
      "\n",
      "[notice] A new release of pip is available: 23.0.1 -> 25.1.1\n",
      "[notice] To update, run: python.exe -m pip install --upgrade pip\n"
     ]
    }
   ],
   "source": [
    "# Installation Commands\n",
    "%pip install pandas numpy scikit-learn"
   ]
  },
  {
   "cell_type": "code",
   "execution_count": 4,
   "id": "62cdd1bf",
   "metadata": {},
   "outputs": [],
   "source": [
    "import pandas as pd\n",
    "import numpy as np\n",
    "from sklearn.model_selection import train_test_split\n",
    "from sklearn.linear_model import LogisticRegression\n",
    "from sklearn.preprocessing import LabelEncoder\n",
    "from sklearn.metrics import accuracy_score\n",
    "\n",
    "# Load the datasets\n",
    "matches_df = pd.read_csv('https://raw.githubusercontent.com/Pankaj-Str/IPL-Data-Analysis-Case-Study/refs/heads/main/dataset/matches_data.csv')\n",
    "deliveries_df = pd.read_csv('https://raw.githubusercontent.com/Pankaj-Str/IPL-Data-Analysis-Case-Study/refs/heads/main/dataset/deliveries_data.csv')"
   ]
  },
  {
   "cell_type": "code",
   "execution_count": 5,
   "id": "8f9da712",
   "metadata": {},
   "outputs": [
    {
     "name": "stdout",
     "output_type": "stream",
     "text": [
      "Q1: Batting strike rates (min 500 runs):\n",
      "             strike_rate\n",
      "batsman                \n",
      "AD Russell       179.95\n",
      "SP Narine        166.94\n",
      "RR Pant          162.32\n",
      "GJ Maxwell       155.54\n",
      "CH Morris        153.39\n",
      "Q1: Batting strike rates saved to 'batsman_strike_rates.csv'.\n"
     ]
    }
   ],
   "source": [
    "# Question 1: Batting strike rate of each batsman (minimum 500 runs)\n",
    "batsman_stats = deliveries_df.groupby('batsman').agg({\n",
    "    'batsman_runs': 'sum',\n",
    "    'ball': 'count'  # Count legal balls (excluding wides)\n",
    "})\n",
    "batsman_stats['strike_rate'] = (batsman_stats['batsman_runs'] / batsman_stats['ball'] * 100).round(2)\n",
    "batsman_stats = batsman_stats[batsman_stats['batsman_runs'] >= 500][['strike_rate']].sort_values('strike_rate', ascending=False)\n",
    "print(\"Q1: Batting strike rates (min 500 runs):\\n\", batsman_stats.head())\n",
    "batsman_stats.to_csv('batsman_strike_rates.csv')\n",
    "print(\"Q1: Batting strike rates saved to 'batsman_strike_rates.csv'.\")\n"
   ]
  },
  {
   "cell_type": "code",
   "execution_count": 6,
   "id": "8ffa66bf",
   "metadata": {},
   "outputs": [
    {
     "name": "stdout",
     "output_type": "stream",
     "text": [
      "Q2: Team with highest powerplay run rate is Delhi Capitals with 8.50 runs per over.\n",
      "Q2: Powerplay run rates saved to 'powerplay_run_rates.csv'.\n"
     ]
    }
   ],
   "source": [
    "# Question 2: Team with highest run rate in powerplay overs (1–6)\n",
    "powerplay_df = deliveries_df[deliveries_df['over'].between(1, 6)]\n",
    "team_powerplay = powerplay_df.groupby('batting_team').agg({\n",
    "    'total_runs': 'sum',\n",
    "    'over': 'count'  # Count balls\n",
    "})\n",
    "team_powerplay['overs'] = team_powerplay['over'] / 6  # Convert balls to overs\n",
    "team_powerplay['run_rate'] = (team_powerplay['total_runs'] / team_powerplay['overs']).round(2)\n",
    "top_team = team_powerplay['run_rate'].idxmax()\n",
    "top_run_rate = team_powerplay['run_rate'].max()\n",
    "print(f\"Q2: Team with highest powerplay run rate is {top_team} with {top_run_rate:.2f} runs per over.\")\n",
    "team_powerplay[['run_rate']].to_csv('powerplay_run_rates.csv')\n",
    "print(\"Q2: Powerplay run rates saved to 'powerplay_run_rates.csv'.\")\n"
   ]
  },
  {
   "cell_type": "code",
   "execution_count": 7,
   "id": "9c91b531",
   "metadata": {},
   "outputs": [
    {
     "name": "stdout",
     "output_type": "stream",
     "text": [
      "Q3: Win percentage when winning toss:\\ poved toss_winner\n",
      "Chennai Super Kings            64.0\n",
      "Deccan Chargers                44.0\n",
      "Delhi Daredevils               46.0\n",
      "Gujarat Lions                  67.0\n",
      "Kings XI Punjab                41.0\n",
      "Kochi Tuskers Kerala           50.0\n",
      "Kolkata Knight Riders          56.0\n",
      "Mumbai Indians                 56.0\n",
      "Pune Warriors                  15.0\n",
      "Rajasthan Royals               54.0\n",
      "Rising Pune Supergiant         83.0\n",
      "Rising Pune Supergiants        43.0\n",
      "Royal Challengers Bangalore    50.0\n",
      "Sunrisers Hyderabad            49.0\n",
      "Name: toss_win_match_win, dtype: float64\n",
      "Q3: Toss impact data saved to 'toss_impact.csv'.\n"
     ]
    }
   ],
   "source": [
    "# Question 3: Impact of toss win on match outcomes\n",
    "matches_df['toss_win_match_win'] = matches_df['toss_winner'] == matches_df['winner']\n",
    "toss_impact = matches_df.groupby('toss_winner')['toss_win_match_win'].mean().round(2) * 100\n",
    "print(\"Q3: Win percentage when winning toss:\\ poved\", toss_impact)\n",
    "toss_impact.to_csv('toss_impact.csv')\n",
    "print(\"Q3: Toss impact data saved to 'toss_impact.csv'.\")\n"
   ]
  },
  {
   "cell_type": "code",
   "execution_count": 8,
   "id": "7fbbded2",
   "metadata": {},
   "outputs": [
    {
     "name": "stdout",
     "output_type": "stream",
     "text": [
      "Q4: Bowler with best death overs economy is R Ashwin with 7.56 runs per over.\n",
      "Q4: Death overs economy rates saved to 'death_overs_economy.csv'.\n"
     ]
    }
   ],
   "source": [
    "# Question 4: Bowler with best economy rate in death overs (16–20, min 50 overs)\n",
    "death_overs_df = deliveries_df[deliveries_df['over'].between(16, 20)]\n",
    "bowler_stats = death_overs_df.groupby('bowler').agg({\n",
    "    'total_runs': 'sum',\n",
    "    'over': 'count'\n",
    "})\n",
    "bowler_stats['overs'] = bowler_stats['over'] / 6\n",
    "bowler_stats['economy_rate'] = (bowler_stats['total_runs'] / bowler_stats['overs']).round(2)\n",
    "bowler_stats = bowler_stats[bowler_stats['overs'] >= 50][['economy_rate']].sort_values('economy_rate')\n",
    "top_bowler = bowler_stats['economy_rate'].idxmin()\n",
    "top_economy = bowler_stats['economy_rate'].min()\n",
    "print(f\"Q4: Bowler with best death overs economy is {top_bowler} with {top_economy:.2f} runs per over.\")\n",
    "bowler_stats.to_csv('death_overs_economy.csv')\n",
    "print(\"Q4: Death overs economy rates saved to 'death_overs_economy.csv'.\")\n"
   ]
  },
  {
   "cell_type": "code",
   "execution_count": 9,
   "id": "528db477",
   "metadata": {},
   "outputs": [
    {
     "name": "stdout",
     "output_type": "stream",
     "text": [
      "Q5: Win percentage when batting first:\n",
      " season\n",
      "2008    48.0\n",
      "2009    58.0\n",
      "2010    52.0\n",
      "2011    52.0\n",
      "2012    45.0\n",
      "2013    47.0\n",
      "2014    50.0\n",
      "2015    47.0\n",
      "2016    57.0\n",
      "2017    58.0\n",
      "Name: batting_first_won, dtype: float64\n",
      "Q5: Batting first impact saved to 'batting_first_impact.csv'.\n"
     ]
    }
   ],
   "source": [
    "# Question 5: Impact of batting first vs. second on match outcomes\n",
    "matches_df['batting_first'] = matches_df['toss_decision'].map({'bat': True, 'field': False})\n",
    "matches_df['batting_first_won'] = matches_df.apply(\n",
    "    lambda x: x['winner'] == x['team1'] if x['batting_first'] else x['winner'] == x['team2'], axis=1\n",
    ")\n",
    "batting_impact = matches_df.groupby('season')['batting_first_won'].mean().round(2) * 100\n",
    "print(\"Q5: Win percentage when batting first:\\n\", batting_impact)\n",
    "batting_impact.to_csv('batting_first_impact.csv')\n",
    "print(\"Q5: Batting first impact saved to 'batting_first_impact.csv'.\")\n",
    "\n"
   ]
  },
  {
   "cell_type": "code",
   "execution_count": 10,
   "id": "3df1edba",
   "metadata": {},
   "outputs": [
    {
     "name": "stdout",
     "output_type": "stream",
     "text": [
      "Q6: Batsman with highest average against a bowler is V Kohli against R Ashwin with 153.00.\n",
      "Q6: Batsman-bowler averages saved to 'batsman_bowler_avg.csv'.\n"
     ]
    }
   ],
   "source": [
    "# Question 6: Batsman with highest average against a specific bowler (min 30 balls)\n",
    "batsman_bowler = deliveries_df.groupby(['batsman', 'bowler']).agg({\n",
    "    'batsman_runs': 'sum',\n",
    "    'ball': 'count',\n",
    "    'player_dismissed': lambda x: x.notna().sum()\n",
    "})\n",
    "batsman_bowler = batsman_bowler[batsman_bowler['ball'] >= 30]\n",
    "batsman_bowler['batting_avg'] = (batsman_bowler['batsman_runs'] / batsman_bowler['player_dismissed'].replace(0, 1)).round(2)\n",
    "top_batsman_bowler = batsman_bowler['batting_avg'].idxmax()\n",
    "top_avg = batsman_bowler['batting_avg'].max()\n",
    "print(f\"Q6: Batsman with highest average against a bowler is {top_batsman_bowler[0]} against {top_batsman_bowler[1]} with {top_avg:.2f}.\")\n",
    "batsman_bowler[['batting_avg']].to_csv('batsman_bowler_avg.csv')\n",
    "print(\"Q6: Batsman-bowler averages saved to 'batsman_bowler_avg.csv'.\")\n",
    "\n"
   ]
  },
  {
   "cell_type": "code",
   "execution_count": 11,
   "id": "0da83904",
   "metadata": {},
   "outputs": [
    {
     "name": "stdout",
     "output_type": "stream",
     "text": [
      "Q6: Batsman with highest average against a bowler is V Kohli against R Ashwin with 153.00.\n",
      "Q6: Batsman-bowler averages saved to 'batsman_bowler_avg.csv'.\n"
     ]
    }
   ],
   "source": [
    "# Question 6: Batsman with highest average against a specific bowler (min 30 balls)\n",
    "batsman_bowler = deliveries_df.groupby(['batsman', 'bowler']).agg({\n",
    "    'batsman_runs': 'sum',\n",
    "    'ball': 'count',\n",
    "    'player_dismissed': lambda x: x.notna().sum()\n",
    "})\n",
    "batsman_bowler = batsman_bowler[batsman_bowler['ball'] >= 30]\n",
    "batsman_bowler['batting_avg'] = (batsman_bowler['batsman_runs'] / batsman_bowler['player_dismissed'].replace(0, 1)).round(2)\n",
    "top_batsman_bowler = batsman_bowler['batting_avg'].idxmax()\n",
    "top_avg = batsman_bowler['batting_avg'].max()\n",
    "print(f\"Q6: Batsman with highest average against a bowler is {top_batsman_bowler[0]} against {top_batsman_bowler[1]} with {top_avg:.2f}.\")\n",
    "batsman_bowler[['batting_avg']].to_csv('batsman_bowler_avg.csv')\n",
    "print(\"Q6: Batsman-bowler averages saved to 'batsman_bowler_avg.csv'.\")\n"
   ]
  },
  {
   "cell_type": "code",
   "execution_count": 12,
   "id": "521abcd9",
   "metadata": {},
   "outputs": [
    {
     "name": "stdout",
     "output_type": "stream",
     "text": [
      "Q6: Batsman with highest average against a bowler is V Kohli against R Ashwin with 153.00.\n",
      "Q6: Batsman-bowler averages saved to 'batsman_bowler_avg.csv'.\n"
     ]
    }
   ],
   "source": [
    "# Question 6: Batsman with highest average against a specific bowler (min 30 balls)\n",
    "batsman_bowler = deliveries_df.groupby(['batsman', 'bowler']).agg({\n",
    "    'batsman_runs': 'sum',\n",
    "    'ball': 'count',\n",
    "    'player_dismissed': lambda x: x.notna().sum()\n",
    "})\n",
    "batsman_bowler = batsman_bowler[batsman_bowler['ball'] >= 30]\n",
    "batsman_bowler['batting_avg'] = (batsman_bowler['batsman_runs'] / batsman_bowler['player_dismissed'].replace(0, 1)).round(2)\n",
    "top_batsman_bowler = batsman_bowler['batting_avg'].idxmax()\n",
    "top_avg = batsman_bowler['batting_avg'].max()\n",
    "print(f\"Q6: Batsman with highest average against a bowler is {top_batsman_bowler[0]} against {top_batsman_bowler[1]} with {top_avg:.2f}.\")\n",
    "batsman_bowler[['batting_avg']].to_csv('batsman_bowler_avg.csv')\n",
    "print(\"Q6: Batsman-bowler averages saved to 'batsman_bowler_avg.csv'.\")\n"
   ]
  },
  {
   "cell_type": "code",
   "execution_count": 13,
   "id": "4392610a",
   "metadata": {},
   "outputs": [
    {
     "name": "stdout",
     "output_type": "stream",
     "text": [
      "Q7: Dismissal types by team and season:\n",
      " dismissal_kind                bowled  caught  caught and bowled  hit wicket  \\\n",
      "season batting_team                                                           \n",
      "2008   Chennai Super Kings        11      54                  3           0   \n",
      "       Deccan Chargers            16      58                  2           0   \n",
      "       Delhi Daredevils           16      46                  0           0   \n",
      "       Kings XI Punjab             9      48                  4           0   \n",
      "       Kolkata Knight Riders      17      50                  3           0   \n",
      "\n",
      "dismissal_kind                lbw  obstructing the field  retired hurt  \\\n",
      "season batting_team                                                      \n",
      "2008   Chennai Super Kings      4                      0             0   \n",
      "       Deccan Chargers          5                      0             0   \n",
      "       Delhi Daredevils         3                      0             0   \n",
      "       Kings XI Punjab          6                      0             0   \n",
      "       Kolkata Knight Riders    7                      0             0   \n",
      "\n",
      "dismissal_kind                run out  stumped  \n",
      "season batting_team                             \n",
      "2008   Chennai Super Kings          6        1  \n",
      "       Deccan Chargers              9        3  \n",
      "       Delhi Daredevils            10        2  \n",
      "       Kings XI Punjab              9        3  \n",
      "       Kolkata Knight Riders       11        0  \n",
      "Q7: Dismissal types saved to 'dismissal_types.csv'.\n"
     ]
    }
   ],
   "source": [
    "# Question 7: Dismissal types by batting team and season\n",
    "deliveries_with_season = deliveries_df.merge(matches_df[['id', 'season']], left_on='match_id', right_on='id')\n",
    "dismissal_types = deliveries_with_season.groupby(['season', 'batting_team', 'dismissal_kind']).size().unstack(fill_value=0)\n",
    "print(\"Q7: Dismissal types by team and season:\\n\", dismissal_types.head())\n",
    "dismissal_types.to_csv('dismissal_types.csv')\n",
    "print(\"Q7: Dismissal types saved to 'dismissal_types.csv'.\")\n",
    "\n"
   ]
  },
  {
   "cell_type": "code",
   "execution_count": 14,
   "id": "3d0d38fc",
   "metadata": {},
   "outputs": [
    {
     "name": "stdout",
     "output_type": "stream",
     "text": [
      "Q8: Logistic regression model accuracy: 0.56\n",
      "Q8: Logistic regression coefficients saved to 'logistic_regression_coefficients.csv'.\n"
     ]
    },
    {
     "name": "stderr",
     "output_type": "stream",
     "text": [
      "C:\\Users\\comp\\AppData\\Local\\Temp\\ipykernel_1448\\1341326307.py:8: SettingWithCopyWarning: \n",
      "A value is trying to be set on a copy of a slice from a DataFrame.\n",
      "Try using .loc[row_indexer,col_indexer] = value instead\n",
      "\n",
      "See the caveats in the documentation: https://pandas.pydata.org/pandas-docs/stable/user_guide/indexing.html#returning-a-view-versus-a-copy\n",
      "  features['venue'] = le_venue.fit_transform(features['venue'])\n",
      "C:\\Users\\comp\\AppData\\Local\\Temp\\ipykernel_1448\\1341326307.py:9: SettingWithCopyWarning: \n",
      "A value is trying to be set on a copy of a slice from a DataFrame.\n",
      "Try using .loc[row_indexer,col_indexer] = value instead\n",
      "\n",
      "See the caveats in the documentation: https://pandas.pydata.org/pandas-docs/stable/user_guide/indexing.html#returning-a-view-versus-a-copy\n",
      "  features['toss_decision'] = le_toss.fit_transform(features['toss_decision'])\n",
      "C:\\Users\\comp\\AppData\\Local\\Temp\\ipykernel_1448\\1341326307.py:10: SettingWithCopyWarning: \n",
      "A value is trying to be set on a copy of a slice from a DataFrame.\n",
      "Try using .loc[row_indexer,col_indexer] = value instead\n",
      "\n",
      "See the caveats in the documentation: https://pandas.pydata.org/pandas-docs/stable/user_guide/indexing.html#returning-a-view-versus-a-copy\n",
      "  features['team1'] = le_team1.fit_transform(features['team1'])\n",
      "C:\\Users\\comp\\AppData\\Local\\Temp\\ipykernel_1448\\1341326307.py:11: SettingWithCopyWarning: \n",
      "A value is trying to be set on a copy of a slice from a DataFrame.\n",
      "Try using .loc[row_indexer,col_indexer] = value instead\n",
      "\n",
      "See the caveats in the documentation: https://pandas.pydata.org/pandas-docs/stable/user_guide/indexing.html#returning-a-view-versus-a-copy\n",
      "  features['team2'] = le_team2.fit_transform(features['team2'])\n"
     ]
    }
   ],
   "source": [
    "# Question 8: Logistic regression to predict team winning based on venue and toss decision\n",
    "matches_df['team1_won'] = (matches_df['winner'] == matches_df['team1']).astype(int)\n",
    "features = matches_df[['venue', 'toss_decision', 'team1', 'team2']]\n",
    "le_venue = LabelEncoder()\n",
    "le_toss = LabelEncoder()\n",
    "le_team1 = LabelEncoder()\n",
    "le_team2 = LabelEncoder()\n",
    "features['venue'] = le_venue.fit_transform(features['venue'])\n",
    "features['toss_decision'] = le_toss.fit_transform(features['toss_decision'])\n",
    "features['team1'] = le_team1.fit_transform(features['team1'])\n",
    "features['team2'] = le_team2.fit_transform(features['team2'])\n",
    "X = features[['venue', 'toss_decision', 'team1', 'team2']]\n",
    "y = matches_df['team1_won']\n",
    "X_train, X_test, y_train, y_test = train_test_split(X, y, test_size=0.2, random_state=42)\n",
    "model = LogisticRegression(max_iter=1000)\n",
    "model.fit(X_train, y_train)\n",
    "accuracy = accuracy_score(y_test, model.predict(X_test))\n",
    "print(f\"Q8: Logistic regression model accuracy: {accuracy:.2f}\")\n",
    "pd.DataFrame({\n",
    "    'Feature': ['venue', 'toss_decision', 'team1', 'team2'],\n",
    "    'Coefficient': model.coef_[0]\n",
    "}).to_csv('logistic_regression_coefficients.csv')\n",
    "print(\"Q8: Logistic regression coefficients saved to 'logistic_regression_coefficients.csv'.\")"
   ]
  }
 ],
 "metadata": {
  "kernelspec": {
   "display_name": "Python 3",
   "language": "python",
   "name": "python3"
  },
  "language_info": {
   "codemirror_mode": {
    "name": "ipython",
    "version": 3
   },
   "file_extension": ".py",
   "mimetype": "text/x-python",
   "name": "python",
   "nbconvert_exporter": "python",
   "pygments_lexer": "ipython3",
   "version": "3.10.11"
  }
 },
 "nbformat": 4,
 "nbformat_minor": 5
}
