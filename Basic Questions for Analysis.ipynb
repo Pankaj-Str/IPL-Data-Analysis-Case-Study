{
 "cells": [
  {
   "cell_type": "code",
   "execution_count": 1,
   "id": "499385b8",
   "metadata": {},
   "outputs": [],
   "source": [
    "import pandas as pd\n",
    "\n",
    "# Load the datasets\n",
    "matches_df = pd.read_csv('https://raw.githubusercontent.com/Pankaj-Str/IPL-Data-Analysis-Case-Study/refs/heads/main/dataset/matches_data.csv')\n",
    "deliveries_df = pd.read_csv('https://raw.githubusercontent.com/Pankaj-Str/IPL-Data-Analysis-Case-Study/refs/heads/main/dataset/deliveries_data.csv')\n"
   ]
  },
  {
   "cell_type": "code",
   "execution_count": 2,
   "id": "691bc011",
   "metadata": {},
   "outputs": [
    {
     "name": "stdout",
     "output_type": "stream",
     "text": [
      "Q1: The team with the most IPL match wins is Mumbai Indians with 92 wins.\n",
      "Q1: Team wins data saved to 'team_wins.csv'.\n"
     ]
    }
   ],
   "source": [
    "# Question 1: Which team has won the most matches in the IPL?\n",
    "team_wins = matches_df['winner'].value_counts()\n",
    "most_wins_team = team_wins.idxmax()\n",
    "most_wins_count = team_wins.max()\n",
    "print(f\"Q1: The team with the most IPL match wins is {most_wins_team} with {most_wins_count} wins.\")\n",
    "team_wins.to_csv('team_wins.csv')\n",
    "print(\"Q1: Team wins data saved to 'team_wins.csv'.\")"
   ]
  },
  {
   "cell_type": "code",
   "execution_count": 3,
   "id": "a0121f64",
   "metadata": {},
   "outputs": [
    {
     "name": "stdout",
     "output_type": "stream",
     "text": [
      "Q2: Average win margin by runs: 30.32, by wickets: 6.33\n",
      "Q2: Win margins data saved to 'win_margins.csv'.\n"
     ]
    }
   ],
   "source": [
    "# Question 2: What is the average win margin (by runs and wickets) for matches?\n",
    "avg_win_by_runs = matches_df[matches_df['win_by_runs'] > 0]['win_by_runs'].mean()\n",
    "avg_win_by_wickets = matches_df[matches_df['win_by_wickets'] > 0]['win_by_wickets'].mean()\n",
    "print(f\"Q2: Average win margin by runs: {avg_win_by_runs:.2f}, by wickets: {avg_win_by_wickets:.2f}\")\n",
    "pd.DataFrame({\n",
    "    'Metric': ['Average Win by Runs', 'Average Win by Wickets'],\n",
    "    'Value': [avg_win_by_runs, avg_win_by_wickets]\n",
    "}).to_csv('win_margins.csv', index=False)\n",
    "print(\"Q2: Win margins data saved to 'win_margins.csv'.\")\n"
   ]
  },
  {
   "cell_type": "code",
   "execution_count": 4,
   "id": "b4229fd3",
   "metadata": {},
   "outputs": [
    {
     "name": "stdout",
     "output_type": "stream",
     "text": [
      "Q3: The player with the most Player of the Match awards is CH Gayle with 18 awards.\n",
      "Q3: Player of the Match data saved to 'player_of_match.csv'.\n"
     ]
    }
   ],
   "source": [
    "# Question 3: Which player has won the most \"Player of the Match\" awards?\n",
    "player_of_match = matches_df['player_of_match'].value_counts()\n",
    "top_player = player_of_match.idxmax()\n",
    "top_player_count = player_of_match.max()\n",
    "print(f\"Q3: The player with the most Player of the Match awards is {top_player} with {top_player_count} awards.\")\n",
    "player_of_match.to_csv('player_of_match.csv')\n",
    "print(\"Q3: Player of the Match data saved to 'player_of_match.csv'.\")\n",
    "\n"
   ]
  },
  {
   "cell_type": "code",
   "execution_count": 5,
   "id": "bdc206a1",
   "metadata": {},
   "outputs": [
    {
     "name": "stdout",
     "output_type": "stream",
     "text": [
      "Q4: Matches played per season:\n",
      "season\n",
      "2008    58\n",
      "2009    57\n",
      "2010    60\n",
      "2011    73\n",
      "2012    74\n",
      "2013    76\n",
      "2014    60\n",
      "2015    59\n",
      "2016    60\n",
      "2017    59\n",
      "Name: count, dtype: int64\n",
      "Q4: Matches per season data saved to 'matches_per_season.csv'.\n"
     ]
    }
   ],
   "source": [
    "# Question 4: How many matches were played in each season?\n",
    "matches_per_season = matches_df['season'].value_counts().sort_index()\n",
    "print(f\"Q4: Matches played per season:\\n{matches_per_season}\")\n",
    "matches_per_season.to_csv('matches_per_season.csv')\n",
    "print(\"Q4: Matches per season data saved to 'matches_per_season.csv'.\")\n",
    "\n"
   ]
  },
  {
   "cell_type": "code",
   "execution_count": 6,
   "id": "e82c5776",
   "metadata": {},
   "outputs": [
    {
     "name": "stdout",
     "output_type": "stream",
     "text": [
      "Q5: The venue with the most IPL matches is M Chinnaswamy Stadium with 66 matches.\n",
      "Q5: Venue counts data saved to 'venue_counts.csv'.\n"
     ]
    }
   ],
   "source": [
    "# Question 5: Which venue hosted the most IPL matches?\n",
    "venue_counts = matches_df['venue'].value_counts()\n",
    "top_venue = venue_counts.idxmax()\n",
    "top_venue_count = venue_counts.max()\n",
    "print(f\"Q5: The venue with the most IPL matches is {top_venue} with {top_venue_count} matches.\")\n",
    "venue_counts.to_csv('venue_counts.csv')\n",
    "print(\"Q5: Venue counts data saved to 'venue_counts.csv'.\")\n",
    "\n"
   ]
  },
  {
   "cell_type": "code",
   "execution_count": 7,
   "id": "1dffa2f2",
   "metadata": {},
   "outputs": [
    {
     "name": "stdout",
     "output_type": "stream",
     "text": [
      "Q6: Total runs scored by each team:\n",
      "batting_team\n",
      "Chennai Super Kings            26418\n",
      "Deccan Chargers                11463\n",
      "Delhi Capitals                  2630\n",
      "Delhi Daredevils               24388\n",
      "Gujarat Lions                   4862\n",
      "Kings XI Punjab                27893\n",
      "Kochi Tuskers Kerala            1901\n",
      "Kolkata Knight Riders          27419\n",
      "Mumbai Indians                 29809\n",
      "Pune Warriors                   6358\n",
      "Rajasthan Royals               22431\n",
      "Rising Pune Supergiant          2470\n",
      "Rising Pune Supergiants         2063\n",
      "Royal Challengers Bangalore    28126\n",
      "Sunrisers Hyderabad            17059\n",
      "Name: total_runs, dtype: int64\n",
      "Q6: Team runs data saved to 'team_runs.csv'.\n"
     ]
    }
   ],
   "source": [
    "# Question 6: What is the total number of runs scored by each team in the IPL?\n",
    "team_runs = deliveries_df.groupby('batting_team')['total_runs'].sum()\n",
    "print(f\"Q6: Total runs scored by each team:\\n{team_runs}\")\n",
    "team_runs.to_csv('team_runs.csv')\n",
    "print(\"Q6: Team runs data saved to 'team_runs.csv'.\")\n"
   ]
  },
  {
   "cell_type": "code",
   "execution_count": 8,
   "id": "82577119",
   "metadata": {},
   "outputs": [
    {
     "name": "stdout",
     "output_type": "stream",
     "text": [
      "Q7: The bowler with the most wickets is SL Malinga with 170 wickets.\n",
      "Q7: Bowler wickets data saved to 'bowler_wickets.csv'.\n"
     ]
    }
   ],
   "source": [
    "# Question 7: Which bowler has taken the most wickets in the IPL?\n",
    "wickets = deliveries_df[deliveries_df['player_dismissed'].notna() & (deliveries_df['dismissal_kind'] != 'run out')]\n",
    "bowler_wickets = wickets.groupby('bowler')['player_dismissed'].count()\n",
    "top_bowler = bowler_wickets.idxmax()\n",
    "top_bowler_wickets = bowler_wickets.max()\n",
    "print(f\"Q7: The bowler with the most wickets is {top_bowler} with {top_bowler_wickets} wickets.\")\n",
    "bowler_wickets.to_csv('bowler_wickets.csv')\n",
    "print(\"Q7: Bowler wickets data saved to 'bowler_wickets.csv'.\")\n",
    "\n"
   ]
  },
  {
   "cell_type": "code",
   "execution_count": 9,
   "id": "de8e3daf",
   "metadata": {},
   "outputs": [
    {
     "name": "stdout",
     "output_type": "stream",
     "text": [
      "Q8: Toss decisions distribution across seasons:\n",
      "toss_decision  bat  field\n",
      "season                   \n",
      "2008            26     32\n",
      "2009            35     22\n",
      "2010            39     21\n",
      "2011            25     48\n",
      "2012            37     37\n",
      "2013            45     31\n",
      "2014            19     41\n",
      "2015            25     34\n",
      "2016            11     49\n",
      "2017            11     48\n",
      "Q8: Toss decisions data saved to 'toss_decisions.csv'.\n"
     ]
    }
   ],
   "source": [
    "# Question 8: What is the distribution of toss decisions (bat/field) across seasons?\n",
    "toss_decisions = matches_df.groupby(['season', 'toss_decision']).size().unstack(fill_value=0)\n",
    "print(f\"Q8: Toss decisions distribution across seasons:\\n{toss_decisions}\")\n",
    "toss_decisions.to_csv('toss_decisions.csv')\n",
    "print(\"Q8: Toss decisions data saved to 'toss_decisions.csv'.\")"
   ]
  }
 ],
 "metadata": {
  "kernelspec": {
   "display_name": "Python 3",
   "language": "python",
   "name": "python3"
  },
  "language_info": {
   "codemirror_mode": {
    "name": "ipython",
    "version": 3
   },
   "file_extension": ".py",
   "mimetype": "text/x-python",
   "name": "python",
   "nbconvert_exporter": "python",
   "pygments_lexer": "ipython3",
   "version": "3.10.11"
  }
 },
 "nbformat": 4,
 "nbformat_minor": 5
}
